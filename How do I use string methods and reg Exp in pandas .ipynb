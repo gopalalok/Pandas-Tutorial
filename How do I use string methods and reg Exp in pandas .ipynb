{
 "cells": [
  {
   "cell_type": "code",
   "execution_count": 1,
   "metadata": {},
   "outputs": [],
   "source": [
    "import pandas as pd"
   ]
  },
  {
   "cell_type": "code",
   "execution_count": 3,
   "metadata": {},
   "outputs": [
    {
     "name": "stderr",
     "output_type": "stream",
     "text": [
      "c:\\users\\alok\\appdata\\local\\programs\\python\\python37-32\\lib\\site-packages\\ipykernel_launcher.py:1: FutureWarning: read_table is deprecated, use read_csv instead, passing sep='\\t'.\n",
      "  \"\"\"Entry point for launching an IPython kernel.\n"
     ]
    }
   ],
   "source": [
    "orders = pd.read_table('http://bit.ly/chiporders')"
   ]
  },
  {
   "cell_type": "code",
   "execution_count": 5,
   "metadata": {},
   "outputs": [
    {
     "data": {
      "text/html": [
       "<div>\n",
       "<style scoped>\n",
       "    .dataframe tbody tr th:only-of-type {\n",
       "        vertical-align: middle;\n",
       "    }\n",
       "\n",
       "    .dataframe tbody tr th {\n",
       "        vertical-align: top;\n",
       "    }\n",
       "\n",
       "    .dataframe thead th {\n",
       "        text-align: right;\n",
       "    }\n",
       "</style>\n",
       "<table border=\"1\" class=\"dataframe\">\n",
       "  <thead>\n",
       "    <tr style=\"text-align: right;\">\n",
       "      <th></th>\n",
       "      <th>order_id</th>\n",
       "      <th>quantity</th>\n",
       "      <th>item_name</th>\n",
       "      <th>choice_description</th>\n",
       "      <th>item_price</th>\n",
       "    </tr>\n",
       "  </thead>\n",
       "  <tbody>\n",
       "    <tr>\n",
       "      <th>0</th>\n",
       "      <td>1</td>\n",
       "      <td>1</td>\n",
       "      <td>Chips and Fresh Tomato Salsa</td>\n",
       "      <td>NaN</td>\n",
       "      <td>$2.39</td>\n",
       "    </tr>\n",
       "    <tr>\n",
       "      <th>1</th>\n",
       "      <td>1</td>\n",
       "      <td>1</td>\n",
       "      <td>Izze</td>\n",
       "      <td>[Clementine]</td>\n",
       "      <td>$3.39</td>\n",
       "    </tr>\n",
       "    <tr>\n",
       "      <th>2</th>\n",
       "      <td>1</td>\n",
       "      <td>1</td>\n",
       "      <td>Nantucket Nectar</td>\n",
       "      <td>[Apple]</td>\n",
       "      <td>$3.39</td>\n",
       "    </tr>\n",
       "    <tr>\n",
       "      <th>3</th>\n",
       "      <td>1</td>\n",
       "      <td>1</td>\n",
       "      <td>Chips and Tomatillo-Green Chili Salsa</td>\n",
       "      <td>NaN</td>\n",
       "      <td>$2.39</td>\n",
       "    </tr>\n",
       "    <tr>\n",
       "      <th>4</th>\n",
       "      <td>2</td>\n",
       "      <td>2</td>\n",
       "      <td>Chicken Bowl</td>\n",
       "      <td>[Tomatillo-Red Chili Salsa (Hot), [Black Beans...</td>\n",
       "      <td>$16.98</td>\n",
       "    </tr>\n",
       "  </tbody>\n",
       "</table>\n",
       "</div>"
      ],
      "text/plain": [
       "   order_id  quantity                              item_name  \\\n",
       "0         1         1           Chips and Fresh Tomato Salsa   \n",
       "1         1         1                                   Izze   \n",
       "2         1         1                       Nantucket Nectar   \n",
       "3         1         1  Chips and Tomatillo-Green Chili Salsa   \n",
       "4         2         2                           Chicken Bowl   \n",
       "\n",
       "                                  choice_description item_price  \n",
       "0                                                NaN     $2.39   \n",
       "1                                       [Clementine]     $3.39   \n",
       "2                                            [Apple]     $3.39   \n",
       "3                                                NaN     $2.39   \n",
       "4  [Tomatillo-Red Chili Salsa (Hot), [Black Beans...    $16.98   "
      ]
     },
     "execution_count": 5,
     "metadata": {},
     "output_type": "execute_result"
    }
   ],
   "source": [
    "orders.head()"
   ]
  },
  {
   "cell_type": "code",
   "execution_count": 9,
   "metadata": {},
   "outputs": [
    {
     "data": {
      "text/plain": [
       "0                CHIPS AND FRESH TOMATO SALSA\n",
       "1                                        IZZE\n",
       "2                            NANTUCKET NECTAR\n",
       "3       CHIPS AND TOMATILLO-GREEN CHILI SALSA\n",
       "4                                CHICKEN BOWL\n",
       "5                                CHICKEN BOWL\n",
       "6                               SIDE OF CHIPS\n",
       "7                               STEAK BURRITO\n",
       "8                            STEAK SOFT TACOS\n",
       "9                               STEAK BURRITO\n",
       "10                        CHIPS AND GUACAMOLE\n",
       "11                       CHICKEN CRISPY TACOS\n",
       "12                         CHICKEN SOFT TACOS\n",
       "13                               CHICKEN BOWL\n",
       "14                        CHIPS AND GUACAMOLE\n",
       "15      CHIPS AND TOMATILLO-GREEN CHILI SALSA\n",
       "16                            CHICKEN BURRITO\n",
       "17                            CHICKEN BURRITO\n",
       "18                                CANNED SODA\n",
       "19                               CHICKEN BOWL\n",
       "20                        CHIPS AND GUACAMOLE\n",
       "21                           BARBACOA BURRITO\n",
       "22                           NANTUCKET NECTAR\n",
       "23                            CHICKEN BURRITO\n",
       "24                                       IZZE\n",
       "25               CHIPS AND FRESH TOMATO SALSA\n",
       "26                               CHICKEN BOWL\n",
       "27                           CARNITAS BURRITO\n",
       "28                                CANNED SODA\n",
       "29                            CHICKEN BURRITO\n",
       "                        ...                  \n",
       "4592                         BARBACOA BURRITO\n",
       "4593                            CARNITAS BOWL\n",
       "4594                            BARBACOA BOWL\n",
       "4595                             CHICKEN BOWL\n",
       "4596                      CHIPS AND GUACAMOLE\n",
       "4597                        CANNED SOFT DRINK\n",
       "4598                            BOTTLED WATER\n",
       "4599                             CHICKEN BOWL\n",
       "4600                      CHIPS AND GUACAMOLE\n",
       "4601                        CANNED SOFT DRINK\n",
       "4602                         BARBACOA BURRITO\n",
       "4603                         BARBACOA BURRITO\n",
       "4604                             CHICKEN BOWL\n",
       "4605                      CHIPS AND GUACAMOLE\n",
       "4606                        CANNED SOFT DRINK\n",
       "4607                            STEAK BURRITO\n",
       "4608                           VEGGIE BURRITO\n",
       "4609                        CANNED SOFT DRINK\n",
       "4610                            STEAK BURRITO\n",
       "4611                           VEGGIE BURRITO\n",
       "4612                            CARNITAS BOWL\n",
       "4613                                    CHIPS\n",
       "4614                            BOTTLED WATER\n",
       "4615                       CHICKEN SOFT TACOS\n",
       "4616                      CHIPS AND GUACAMOLE\n",
       "4617                            STEAK BURRITO\n",
       "4618                            STEAK BURRITO\n",
       "4619                       CHICKEN SALAD BOWL\n",
       "4620                       CHICKEN SALAD BOWL\n",
       "4621                       CHICKEN SALAD BOWL\n",
       "Name: item_name, Length: 4622, dtype: object"
      ]
     },
     "execution_count": 9,
     "metadata": {},
     "output_type": "execute_result"
    }
   ],
   "source": [
    "orders.item_name.str.upper()"
   ]
  },
  {
   "cell_type": "code",
   "execution_count": null,
   "metadata": {},
   "outputs": [],
   "source": [
    "orders.choice_description.str.replace('[\\[\\]]')"
   ]
  }
 ],
 "metadata": {
  "kernelspec": {
   "display_name": "Python 3",
   "language": "python",
   "name": "python3"
  },
  "language_info": {
   "codemirror_mode": {
    "name": "ipython",
    "version": 3
   },
   "file_extension": ".py",
   "mimetype": "text/x-python",
   "name": "python",
   "nbconvert_exporter": "python",
   "pygments_lexer": "ipython3",
   "version": "3.7.3"
  }
 },
 "nbformat": 4,
 "nbformat_minor": 2
}
